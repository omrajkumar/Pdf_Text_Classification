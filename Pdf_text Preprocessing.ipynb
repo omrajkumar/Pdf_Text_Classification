{
 "cells": [
  {
   "cell_type": "code",
   "execution_count": 146,
   "metadata": {},
   "outputs": [],
   "source": [
    "import nltk\n",
    "import pdftotext\n",
    "import enchant\n",
    "from nltk.tokenize import word_tokenize\n",
    "from nltk.corpus import stopwords             #for Removing stop words\n",
    "from nltk.stem.porter import PorterStemmer    # For Stemming    \n",
    "from enchant.checker import SpellChecker      # for spelling correction using enchant "
   ]
  },
  {
   "cell_type": "code",
   "execution_count": 147,
   "metadata": {},
   "outputs": [],
   "source": [
    "data = open('moh.pdf','rb')"
   ]
  },
  {
   "cell_type": "code",
   "execution_count": 148,
   "metadata": {},
   "outputs": [],
   "source": [
    "pdfReader = pdftotext.PDF(data)"
   ]
  },
  {
   "cell_type": "code",
   "execution_count": 149,
   "metadata": {},
   "outputs": [],
   "source": [
    "data = pdfReader[0]\n",
    "#print(data)"
   ]
  },
  {
   "cell_type": "code",
   "execution_count": 150,
   "metadata": {},
   "outputs": [
    {
     "data": {
      "text/plain": [
       "str"
      ]
     },
     "execution_count": 150,
     "metadata": {},
     "output_type": "execute_result"
    }
   ],
   "source": [
    "type(data)"
   ]
  },
  {
   "cell_type": "code",
   "execution_count": 151,
   "metadata": {},
   "outputs": [],
   "source": [
    "temp = re.sub('[!@#$%^&*''``;)(-=\"]',\" \",data)"
   ]
  },
  {
   "cell_type": "code",
   "execution_count": 152,
   "metadata": {},
   "outputs": [],
   "source": [
    "#print(temp)"
   ]
  },
  {
   "cell_type": "code",
   "execution_count": 153,
   "metadata": {},
   "outputs": [],
   "source": [
    "words = nltk.word_tokenize(temp)\n",
    "# print(words)"
   ]
  },
  {
   "cell_type": "code",
   "execution_count": 154,
   "metadata": {},
   "outputs": [],
   "source": [
    "token_lower = [token.lower()for token in words ]"
   ]
  },
  {
   "cell_type": "code",
   "execution_count": 155,
   "metadata": {},
   "outputs": [],
   "source": [
    "stop_words = set(stopwords.words('english'))"
   ]
  },
  {
   "cell_type": "code",
   "execution_count": 156,
   "metadata": {},
   "outputs": [],
   "source": [
    "temp_1 = []\n",
    "for t in token_lower:\n",
    "    if t not in stop_words:\n",
    "        temp_1.append(t)"
   ]
  },
  {
   "cell_type": "code",
   "execution_count": 157,
   "metadata": {},
   "outputs": [],
   "source": [
    "s = PorterStemmer()"
   ]
  },
  {
   "cell_type": "code",
   "execution_count": 158,
   "metadata": {},
   "outputs": [],
   "source": [
    "temp_2 = [s.stem(word) for word in temp_1]"
   ]
  },
  {
   "cell_type": "code",
   "execution_count": 159,
   "metadata": {},
   "outputs": [
    {
     "name": "stdout",
     "output_type": "stream",
     "text": [
      "['madan', 'mohan', 'malviya', 'born', 'decemb', 'allahabad', 'grandfath', 'pt', 'premdhar', 'father', 'pt', 'baijnath', 'sanskrit', 'scholar', 'father', 'pt', 'baijnath', 'also', 'excel', 'kathavachak', 'narrat', 'stori', 'bhagawat', 'madan', 'mohan', 'marri', 'kumari', 'devi', 'mirzapur', 'madan', 'mohan', '’', 'educ', 'began', 'age', 'five', 'dilig', 'boy', 'matricul', 'join', 'muir', 'central', 'colleg', 'graduat', 'calcutta', 'univers', 'wish', 'devot', 'entir', 'servic', 'nation', 'though', 'studi', 'law', 'pass', '[', 'b', ']', 'examin', 'yet', 'interest', 'legal', 'profess', 'given', 'titl', 'mahamana', 'rememb', 'founder', 'banara', 'hindu', 'univers', 'bhu', 'varanasi', 'madan', 'mohan', 'malviya', 'great', 'scholar', 'educationist', 'man', 'action', 'leader', 'tile', 'nation', 'liber', 'movement', 'becam', 'popular', 'outspoken', 'view', 'media', 'subject', 'british', 'abject', 'poverti', 'mass', 'indiffer', 'british', 'toward', 'duli', 'appoint', 'member', 'indian', 'industri', 'commiss', 'account', 'servic', 'congress', 'elect', 'presid', 'madan', 'mohan', 'malviya', 'strong', 'support', 'congress', 'found', 'hindu', 'mahasabha', 'becam', 'high', 'court', 'vakil', 'alway', 'prefer', 'public', 'work', 'legal', 'work', 'start', 'mani', 'daili', 'weekli', 'monthli', 'newspap', 'magazin', 'chairman', 'board', 'director', 'hindustan', 'time', 'madan', 'mohan', 'malviya', 'conserv', 'social', 'matter', 'believ', 'vamashrama', 'dharma', 'cast', 'system', 'known', 'gentl', 'humil', 'true', 'say', 'consid', 'respons', 'co', 'oper', 'better', 'polici', 'civil', 'disobedi', 'die', 'novemb', 'age', 'posthum', 'confer', 'bharat', 'ratna', 'india', \"'s\", 'highest', 'civilian', 'award', 'decemb', 'day', 'rd', 'birth', 'anniversari', 'madan', 'mohan', 'malviya', 'occupi', 'high', 'posit', 'indian', 'public', 'life', 'public', 'activ', 'numer']\n"
     ]
    }
   ],
   "source": [
    "print(temp_2)"
   ]
  },
  {
   "cell_type": "code",
   "execution_count": 160,
   "metadata": {},
   "outputs": [],
   "source": [
    "chkr = SpellChecker('en_US')"
   ]
  },
  {
   "cell_type": "code",
   "execution_count": 161,
   "metadata": {},
   "outputs": [
    {
     "name": "stdout",
     "output_type": "stream",
     "text": [
      "ERROR: madan\n",
      "ERROR: mohan\n",
      "ERROR: malviya\n",
      "ERROR: december\n",
      "ERROR: allahabad\n",
      "ERROR: premdhar\n",
      "ERROR: baijnath\n",
      "ERROR: sanskrit\n",
      "ERROR: baijnath\n",
      "ERROR: kathavachak\n",
      "ERROR: bhagawat\n",
      "ERROR: madan\n",
      "ERROR: mohan\n",
      "ERROR: kumari\n",
      "ERROR: devi\n",
      "ERROR: mirzapur\n",
      "ERROR: madan\n",
      "ERROR: mohan\n",
      "ERROR: muir\n",
      "ERROR: calcutta\n",
      "ERROR: mahamana\n",
      "ERROR: banaras\n",
      "ERROR: hindu\n",
      "ERROR: bhu\n",
      "ERROR: varanasi\n",
      "ERROR: madan\n",
      "ERROR: mohan\n",
      "ERROR: malviya\n",
      "ERROR: educationist\n",
      "ERROR: liberational\n",
      "ERROR: british\n",
      "ERROR: british\n",
      "ERROR: indian\n",
      "ERROR: madan\n",
      "ERROR: mohan\n",
      "ERROR: malviya\n",
      "ERROR: hindu\n",
      "ERROR: mahasabha\n",
      "ERROR: vakil\n",
      "ERROR: hindustan\n",
      "ERROR: madan\n",
      "ERROR: mohan\n",
      "ERROR: malviya\n",
      "ERROR: vamashrama\n",
      "ERROR: dharma\n",
      "ERROR: november\n",
      "ERROR: bharat\n",
      "ERROR: ratna\n",
      "ERROR: india\n",
      "ERROR: december\n",
      "ERROR: madan\n",
      "ERROR: mohan\n",
      "ERROR: malviya\n",
      "ERROR: indian\n"
     ]
    }
   ],
   "source": [
    "for word in temp_1:\n",
    "    chkr.set_text(word)\n",
    "    for err in chkr:\n",
    "        print('ERROR:',err.word)"
   ]
  },
  {
   "cell_type": "code",
   "execution_count": null,
   "metadata": {},
   "outputs": [],
   "source": []
  },
  {
   "cell_type": "code",
   "execution_count": null,
   "metadata": {},
   "outputs": [],
   "source": []
  }
 ],
 "metadata": {
  "kernelspec": {
   "display_name": "Python 3",
   "language": "python",
   "name": "python3"
  },
  "language_info": {
   "codemirror_mode": {
    "name": "ipython",
    "version": 3
   },
   "file_extension": ".py",
   "mimetype": "text/x-python",
   "name": "python",
   "nbconvert_exporter": "python",
   "pygments_lexer": "ipython3",
   "version": "3.5.2"
  }
 },
 "nbformat": 4,
 "nbformat_minor": 2
}
